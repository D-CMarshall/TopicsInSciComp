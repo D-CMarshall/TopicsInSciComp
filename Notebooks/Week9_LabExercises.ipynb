{
 "cells": [
  {
   "cell_type": "markdown",
   "id": "8677fe39",
   "metadata": {},
   "source": [
    "## Week 9 Lab exercises\n",
    "\n",
    "In this week we will investigate numerical differentiation and solve the heat equation numerically."
   ]
  },
  {
   "cell_type": "code",
   "execution_count": 1,
   "id": "0d8bde64",
   "metadata": {},
   "outputs": [],
   "source": [
    "import numpy as np\n",
    "from sympy import symbols, simplify, pprint, diff\n",
    "from scipy.interpolate import lagrange\n",
    "from scipy.integrate import solve_ivp\n",
    "import matplotlib.pyplot as plt\n",
    "%matplotlib inline"
   ]
  },
  {
   "cell_type": "code",
   "execution_count": 2,
   "id": "cc1d4e63",
   "metadata": {},
   "outputs": [],
   "source": [
    "# We will be working with this test function throughout the exercises:\n",
    "\n",
    "def get_y_test_function(a_x_points) :\n",
    "    y_test = np.exp(-a_x_points*a_x_points)\n",
    "    return y_test\n",
    "\n",
    "def get_dydx_test_function(a_x_points) :\n",
    "    dydt_test = -2.0 * a_x_points * np.exp(-a_x_points*a_x_points)\n",
    "    return dydt_test   \n",
    "\n",
    "def get_d2ydx2_test_function(a_x_points) :\n",
    "    d2ydt2_test = (4.0 * a_x_points * a_x_points * np.exp(-a_x_points*a_x_points)\n",
    "                 - 2.0 * np.exp(-a_x_points*a_x_points))\n",
    "    return d2ydt2_test "
   ]
  },
  {
   "cell_type": "markdown",
   "id": "2b399aad",
   "metadata": {},
   "source": [
    "### ACTIVITY 1 - differentiation: \n",
    "\n",
    "First we are going to practise finding the stencil values from first principles using Lagrange functions. Below we use sympy to work out the stencil for the first derivative for 3 evenly spaced points."
   ]
  },
  {
   "cell_type": "code",
   "execution_count": 6,
   "id": "298493ac",
   "metadata": {},
   "outputs": [
    {
     "name": "stdout",
     "output_type": "stream",
     "text": [
      "Using sympy we get the polynomial (-f1*(x - x2)*(dx - x + x2) + 2*f2*(dx - x + x2)*(dx + x - x2) + f3*(x - x2)*(dx + x - x2))/(2*dx**2)\n",
      "Its derivative is (-dx*f1/2 + dx*f3/2 + f1*x - f1*x2 - 2*f2*x + 2*f2*x2 + f3*x - f3*x2)/dx**2\n",
      "Its derivative at x2 is (-f1 + f3)/(2*dx)\n",
      "This gives the stencil \n",
      "\n",
      "-f₁ + f₃\n",
      "────────\n",
      "  2⋅dx  \n"
     ]
    }
   ],
   "source": [
    "# Construct the polynomial using sympy\n",
    "x = symbols('x') # symbols allow us to write the variables neatly.\n",
    "deltax = symbols('dx') # this is the delta_x from the finite differencing method\n",
    "x2 = symbols('x2') # this is the middle point of our finite differencing method\n",
    "x1 = x2-deltax\n",
    "x3 = x2+deltax\n",
    "f1 = symbols('f1')\n",
    "f2 = symbols('f2')\n",
    "f3 = symbols('f3')\n",
    "L1 = (x - x2 ) / (x1 - x2) * (x - x3 ) / (x1 - x3) # this is the lagrange polynomial for the point x_1. 0 at ALL points except x_1 (where it is 1) \n",
    "L2 = (x - x1 ) / (x2 - x1) * (x - x3 ) / (x2 - x3) # this is the lagrange polynomial for the point x_2. 0 at ALL points except x_2 (where it is 1) \n",
    "L3 = (x - x1 ) / (x3 - x1) * (x - x2 ) / (x3 - x2) # this is the lagrange polynomial for the point x_3. 0 at ALL points except x_3 (where it is 1) \n",
    "P = f1 * L1 + f2 * L2 + f3 * L3 # this is where the weighting is applied - sum of function*lagragne_poluynomial at each x_k\n",
    "print(\"Using sympy we get the polynomial\", simplify(P))\n",
    "#pprint(simplify(P))\n",
    "\n",
    "# Now take the derivative\n",
    "dPdx = diff(P, x)\n",
    "print(\"Its derivative is\", simplify(dPdx))\n",
    "#pprint(simplify(dPdx))\n",
    "\n",
    "# Now find the value at the central point x2\n",
    "dPdx_at_x2 = dPdx.subs(x, x2)\n",
    "print(\"Its derivative at x2 is\", simplify(dPdx_at_x2))\n",
    "print(\"This gives the stencil \\n\")\n",
    "pprint(simplify(dPdx_at_x2))\n",
    "\n"
   ]
  },
  {
   "cell_type": "markdown",
   "id": "3a979391",
   "metadata": {},
   "source": [
    "### Q1.1 Constructing the 2nd derivative stencil for 5 evenly spaced points \n",
    "\n",
    "Copy and amend the code above to work out the stencil for the **second derivative** using **5 evenly spaced points** instead. Check your result against the [finite difference calculator](https://web.media.mit.edu/~crtaylor/calculator.html) (remember you want the second derivative)."
   ]
  },
  {
   "cell_type": "code",
   "execution_count": 7,
   "id": "0d1a9524",
   "metadata": {},
   "outputs": [
    {
     "name": "stdout",
     "output_type": "stream",
     "text": [
      "Using sympy we get the polynomial (f0*(x - x2)*(dx - x + x2)*(dx + x - x2)*(2*dx - x + x2) - 4*f1*(x - x2)*(dx - x + x2)*(2*dx - x + x2)*(2*dx + x - x2) + 6*f2*(dx - x + x2)*(dx + x - x2)*(2*dx - x + x2)*(2*dx + x - x2) + 4*f3*(x - x2)*(dx + x - x2)*(2*dx - x + x2)*(2*dx + x - x2) - f4*(x - x2)*(dx - x + x2)*(dx + x - x2)*(2*dx + x - x2))/(24*dx**4)\n",
      "Its derivative is (dx**3*f0 - 8*dx**3*f1 + 8*dx**3*f3 - dx**3*f4 - dx**2*f0*x + dx**2*f0*x2 + 16*dx**2*f1*x - 16*dx**2*f1*x2 - 30*dx**2*f2*x + 30*dx**2*f2*x2 + 16*dx**2*f3*x - 16*dx**2*f3*x2 - dx**2*f4*x + dx**2*f4*x2 - 3*dx*f0*x**2 + 6*dx*f0*x*x2 - 3*dx*f0*x2**2 + 6*dx*f1*x**2 - 12*dx*f1*x*x2 + 6*dx*f1*x2**2 - 6*dx*f3*x**2 + 12*dx*f3*x*x2 - 6*dx*f3*x2**2 + 3*dx*f4*x**2 - 6*dx*f4*x*x2 + 3*dx*f4*x2**2 + 2*f0*x**3 - 6*f0*x**2*x2 + 6*f0*x*x2**2 - 2*f0*x2**3 - 8*f1*x**3 + 24*f1*x**2*x2 - 24*f1*x*x2**2 + 8*f1*x2**3 + 12*f2*x**3 - 36*f2*x**2*x2 + 36*f2*x*x2**2 - 12*f2*x2**3 - 8*f3*x**3 + 24*f3*x**2*x2 - 24*f3*x*x2**2 + 8*f3*x2**3 + 2*f4*x**3 - 6*f4*x**2*x2 + 6*f4*x*x2**2 - 2*f4*x2**3)/(12*dx**4)\n",
      "Its second derivative is (-dx**2*f0/12 + 4*dx**2*f1/3 - 5*dx**2*f2/2 + 4*dx**2*f3/3 - dx**2*f4/12 - dx*f0*x/2 + dx*f0*x2/2 + dx*f1*x - dx*f1*x2 - dx*f3*x + dx*f3*x2 + dx*f4*x/2 - dx*f4*x2/2 + f0*x**2/2 - f0*x*x2 + f0*x2**2/2 - 2*f1*x**2 + 4*f1*x*x2 - 2*f1*x2**2 + 3*f2*x**2 - 6*f2*x*x2 + 3*f2*x2**2 - 2*f3*x**2 + 4*f3*x*x2 - 2*f3*x2**2 + f4*x**2/2 - f4*x*x2 + f4*x2**2/2)/dx**4\n",
      "Its derivative at x2 is (-f0 + 16*f1 - 30*f2 + 16*f3 - f4)/(12*dx**2)\n",
      "This gives the stencil \n",
      "\n",
      "-f₀ + 16⋅f₁ - 30⋅f₂ + 16⋅f₃ - f₄\n",
      "────────────────────────────────\n",
      "                  2             \n",
      "             12⋅dx              \n"
     ]
    }
   ],
   "source": [
    "# Your code here...\n",
    "\n",
    "# Construct the polynomial using sympy\n",
    "x = symbols('x') # symbols allow us to write the variables neatly.\n",
    "deltax = symbols('dx') # this is the delta_x from the finite differencing method\n",
    "x2 = symbols('x2') # this is the middle point of our finite differencing method\n",
    "x1 = x2-deltax\n",
    "x3 = x2+deltax\n",
    "x4 = x2+2*deltax\n",
    "x0 = x2-2*deltax\n",
    "f1 = symbols('f1')\n",
    "f2 = symbols('f2')\n",
    "f3 = symbols('f3')\n",
    "f4 = symbols('f4')\n",
    "f0 = symbols('f0')\n",
    "L1 = (x - x2 ) / (x1 - x2) * (x - x3 ) / (x1 - x3) * (x - x4) / (x1- x4) * (x - x0) / (x1 - x0)\n",
    "L2 = (x - x1 ) / (x2 - x1) * (x - x3 ) / (x2 - x3) * (x - x4) / (x2- x4) * (x - x0) / (x2 - x0)\n",
    "L3 = (x - x1 ) / (x3 - x1) * (x - x2 ) / (x3 - x2) * (x - x4) / (x3- x4) * (x - x0) / (x3 - x0)\n",
    "L4 = (x - x1 ) / (x4 - x1) * (x - x2 ) / (x4 - x2) * (x - x3) / (x4- x3) * (x - x0) / (x4 - x0)\n",
    "L0 = (x - x1 ) / (x0 - x1) * (x - x2 ) / (x0 - x2) * (x - x3) / (x0 - x3) * (x - x4) / (x0 - x4)\n",
    "P = (f1 * L1) + (f2 * L2) + (f3 * L3) + (f4 * L4) + (f0 * L0)\n",
    "print(\"Using sympy we get the polynomial\", simplify(P))\n",
    "#pprint(simplify(P))\n",
    "\n",
    "# Now take the derivative\n",
    "dPdx = diff(P, x)\n",
    "print(\"Its derivative is\", simplify(dPdx))\n",
    "#pprint(simplify(dPdx))\n",
    "\n",
    "\n",
    "#Now take the second derivative\n",
    "d2Pdx2 = diff(dPdx, x)\n",
    "print(\"Its second derivative is\", simplify(d2Pdx2))\n",
    "\n",
    "# Now find the value at the central point x2\n",
    "d2Pdx2_at_x2 = d2Pdx2.subs(x, x2)\n",
    "print(\"Its derivative at x2 is\", simplify(d2Pdx2_at_x2))\n",
    "print(\"This gives the stencil \\n\")\n",
    "pprint(simplify(d2Pdx2_at_x2))\n",
    "\n",
    "#To summarise...\n",
    "#1) construct largrange polynomial\n",
    "#2) apply weighting to the function so that we obtain P = sum (f(xk) * L(xk) for each k\n",
    "#3) differentiate once\n",
    "#4) differentiate twice (for second derivative)\n",
    "#5) evaluate it at the central point to get the stencil\n"
   ]
  },
  {
   "cell_type": "markdown",
   "id": "5c42c218",
   "metadata": {},
   "source": [
    "### Q1.2 Pseudospectral derivatives\n",
    "\n",
    "The code below gives you the matrices for the first and second derivative of a function represented by N+1 points assuming an interval [-1,1]. There is code that checks the first derivative - copy it and check the second derivative in the same way.\n",
    "\n",
    "_HINT - note the need to rescale the derivative according to the interval - think about how this needs to change for the second derivative._"
   ]
  },
  {
   "cell_type": "code",
   "execution_count": 8,
   "id": "e77616d4",
   "metadata": {},
   "outputs": [],
   "source": [
    "def get_pseudospectral_first_derivative_matrix(N) : #this matrix is explained in page 37 of Lecture 9 notes\n",
    "    \n",
    "    indices = np.arange(N+1)\n",
    "    u_i = np.cos(np.pi * indices / N)\n",
    "    c_i = np.ones_like(indices)\n",
    "    c_i[0] = 2.0\n",
    "    c_i[N] = 2.0 # This is an array which is all ones except at the ends where it is 2.\n",
    "\n",
    "    D_matrix = np.zeros([N+1,N+1])\n",
    "\n",
    "    for idx_i in indices :\n",
    "        for idx_j in indices :\n",
    "            if(idx_i == 0 and idx_j == 0) : \n",
    "                D_matrix[idx_i,idx_j] = (2.0 * N * N + 1.0)/6.0\n",
    "                \n",
    "            elif (idx_i == N and idx_j == N) :\n",
    "                D_matrix[idx_i,idx_j] = -(2.0 * N * N + 1.0)/6.0\n",
    "                \n",
    "            elif (idx_i == idx_j) :\n",
    "                D_matrix[idx_i,idx_j] = - u_i[idx_i] / 2.0 / (1.0 - u_i[idx_i] * u_i[idx_i])\n",
    "                \n",
    "            else :\n",
    "                D_matrix[idx_i,idx_j] = (c_i[idx_i] / c_i[idx_j] * (-1)**(idx_i+idx_j) \n",
    "                                         / (u_i[idx_i] - u_i[idx_j]))\n",
    "\n",
    "    # Fix numerical errors when function flat         \n",
    "    for idx_i in indices :\n",
    "        D_matrix[idx_i,idx_i] = 0\n",
    "        for idx_j in indices :\n",
    "            if (idx_j != idx_i) : \n",
    "                D_matrix[idx_i,idx_i] += -D_matrix[idx_i,idx_j]                \n",
    "\n",
    "    return D_matrix\n",
    "\n",
    "def get_pseudospectral_second_derivative_matrix(N) :\n",
    "    \n",
    "    indices = np.arange(N+1)\n",
    "    u_i = np.cos(np.pi * indices / N)\n",
    "    c_i = np.ones_like(indices)\n",
    "    c_i[0] = 2.0\n",
    "    c_i[N] = 2.0\n",
    "\n",
    "    D2_matrix = np.zeros([N+1,N+1])\n",
    "\n",
    "    for idx_i in indices :\n",
    "        for idx_j in indices :\n",
    "            if((idx_i == idx_j) and (idx_i == 0 or idx_i == N)) : \n",
    "                D2_matrix[idx_i,idx_j] = (N ** 4.0 - 1.0) / 15.0\n",
    "            \n",
    "            elif ((idx_i == idx_j) and (idx_i != 0) and (idx_i != N)) :\n",
    "                D2_matrix[idx_i,idx_j] = (- ((N*N - 1.0) * (1.0 - u_i[idx_i] * u_i[idx_i]) + 3.0) \n",
    "                                             / (3.0 * (1.0 - u_i[idx_i] * u_i[idx_i]) ** 2.0))\n",
    "                 \n",
    "            elif (idx_i == 0 and idx_j > 0) :\n",
    "                D2_matrix[idx_i,idx_j] = ((2.0 / 3.0) * ((-1) ** idx_j) / c_i[idx_j] \n",
    "                                          * ((2.0 * N * N + 1.0) * (1.0 - u_i[idx_j]) - 6.0)\n",
    "                                          / (1.0 - u_i[idx_j]) / (1.0 - u_i[idx_j]))\n",
    "                \n",
    "            elif (idx_i == N and idx_j < N) :\n",
    "                D2_matrix[idx_i,idx_j] = ((2.0 / 3.0) * ((-1) ** (N+idx_j)) / c_i[idx_j] \n",
    "                                          * ((2.0 * N * N + 1.0) * (1.0 + u_i[idx_j]) - 6.0)\n",
    "                                          / (1.0 + u_i[idx_j]) / (1.0 + u_i[idx_j]))\n",
    "                \n",
    "            else :\n",
    "                D2_matrix[idx_i,idx_j] = (((-1) ** (idx_i+idx_j)) / c_i[idx_j] \n",
    "                                            * (u_i[idx_i]*u_i[idx_i] + u_i[idx_i]*u_i[idx_j] - 2.0)\n",
    "                                            / (1.0 - u_i[idx_i]*u_i[idx_i]) / (u_i[idx_i] - u_i[idx_j])\n",
    "                                            / (u_i[idx_i] - u_i[idx_j]))\n",
    "\n",
    "    # Fix numerical errors when function flat            \n",
    "    for idx_i in indices :\n",
    "        D2_matrix[idx_i,idx_i] = 0\n",
    "        for idx_j in indices :\n",
    "            if (idx_j != idx_i) : \n",
    "                D2_matrix[idx_i,idx_i] += -D2_matrix[idx_i,idx_j]\n",
    "                \n",
    "    return D2_matrix"
   ]
  },
  {
   "cell_type": "code",
   "execution_count": 9,
   "id": "02efc8ba",
   "metadata": {},
   "outputs": [
    {
     "data": {
      "image/png": "[encoded data removed]",
      "text/plain": [
       "<Figure size 640x480 with 1 Axes>"
      ]
     },
     "metadata": {},
     "output_type": "display_data"
    }
   ],
   "source": [
    "# Testing the first derivatives\n",
    "N = 24 # number of points\n",
    "a = -4 # lower bound of interval\n",
    "b = 4 # upper bound of interval\n",
    "\n",
    "# Find the Gauss Lobato nodes\n",
    "indices = np.arange(N+1) # number of indices in the chebyshev matrix\n",
    "u_points = np.cos(np.pi * indices / N) #gauss lobato nodes (recall they are mapped to a semi circle of diameter [-1, 1]\n",
    "x_points = (b - a)/2.0 * u_points + (a + b)/2.0 # remapping to the [a, b] interval\n",
    "y_points = get_y_test_function(x_points) # inputting the x points into the function we wish to differentiate to get the y points\n",
    "\n",
    "D_matrix = get_pseudospectral_first_derivative_matrix(N)\n",
    "# Rescale from interval [-1, 1] to [a, b]\n",
    "dydx = 2.0/(b - a)* np.dot(D_matrix, y_points) # finding dydx by multiplying the y_points with the chebyshev matrix.\n",
    "\n",
    "# Plots\n",
    "x_true = np.linspace(a,b,100)\n",
    "plt.plot(x_true, get_dydx_test_function(x_true), '-', label=\"true derivative\")\n",
    "plt.plot(x_points, dydx, 'o', label=\"numerical derivatives\")\n",
    "plt.xlabel(\"x\")\n",
    "plt.ylabel(\"dfdx(x)\")\n",
    "plt.legend(bbox_to_anchor=(1.05, 0.5))\n",
    "plt.grid();"
   ]
  },
  {
   "cell_type": "code",
   "execution_count": 12,
   "id": "3c560f25",
   "metadata": {},
   "outputs": [
    {
     "data": {
      "image/png": "[encoded data removed]",
      "text/plain": [
       "<Figure size 640x480 with 1 Axes>"
      ]
     },
     "metadata": {},
     "output_type": "display_data"
    }
   ],
   "source": [
    "# Your code here...\n",
    "\n",
    "N = 30\n",
    "a = -4\n",
    "b = 4\n",
    "\n",
    "# Find the Gauss Lobato nodes\n",
    "indices = np.arange(N+1)\n",
    "u_points = np.cos(np.pi * indices / N)\n",
    "x_points = (b - a)/2.0 * u_points + (a + b)/2.0\n",
    "y_points = get_y_test_function(x_points)\n",
    "\n",
    "D2_matrix = get_pseudospectral_second_derivative_matrix(N)\n",
    "# Rescale from interval [-1, 1] to [a, b]\n",
    "d2ydx2 = 4.0/(b - a)/(b - a) * np.dot(D2_matrix, y_points) # for second derivative do the same as above for first derivative except do it twice!!\n",
    "\n",
    "# Plots\n",
    "x_true = np.linspace(a,b,100)\n",
    "plt.plot(x_true, get_d2ydx2_test_function(x_true), '-', label=\"true derivative\")\n",
    "plt.plot(x_points, d2ydx2, 'o', label=\"numerical derivatives\")\n",
    "plt.xlabel(\"x\")\n",
    "plt.ylabel(\"d2fdx2(x)\")\n",
    "plt.legend(bbox_to_anchor=(1.05, 0.5))\n",
    "plt.grid();\n"
   ]
  },
  {
   "cell_type": "markdown",
   "id": "cfc9e520",
   "metadata": {},
   "source": [
    "### Q1.3 Finite derivative matrix\n",
    "\n",
    "Using the 5 point finite derivative stencil you have found in the previous question, construct a matrix that can be applied to the vector of function values to evaluate its second derivatives, assuming an equal step size in the range [-1,1]. Note that is is much simpler than the pseudospectral one, but you can use that as a base. \n",
    "\n",
    "Apply it to our test function to check it works!\n",
    "\n",
    "_HINT - you will need to find the stencils for the end points where the 2 neighbouring points do not exist. You can use the [finite difference calculator](https://web.media.mit.edu/~crtaylor/calculator.html) to obtain these using a one sided stencil with 3 points, which is lower order accurate but will work ok!_"
   ]
  },
  {
   "cell_type": "code",
   "execution_count": null,
   "id": "a76386bf",
   "metadata": {},
   "outputs": [],
   "source": [
    "# Your code here...\n",
    "\n",
    "\n"
   ]
  },
  {
   "cell_type": "markdown",
   "id": "2deb43fc",
   "metadata": {},
   "source": [
    "### ACTIVITY 2 : Solving the heat equation using solve_ivp()\n",
    "    \n",
    "Here we will solve the heat equation using solve_ivp() and the two derivative methods above.\n",
    "\n",
    "$ \\frac{\\partial T}{\\partial t} = - \\alpha \\frac{\\partial^2 T}{\\partial x^2} $\n",
    "\n",
    "With $\\alpha$ a parameter for the diffusivity that we can set to 0.5."
   ]
  },
  {
   "cell_type": "markdown",
   "id": "adfa184b",
   "metadata": {},
   "source": [
    "### Q2.1 Using finite differences\n",
    "\n",
    "Here is an example using the finite difference your wrote above and using the test function as the initial condition $T(x,t=0)$. Test it using different functions as initial conditions.\n",
    "\n",
    "Note that you need to have called your second derivative matrix function `get_FD_second_derivative_matrix(N)` for this to work!"
   ]
  },
  {
   "cell_type": "code",
   "execution_count": null,
   "id": "f7d730b0",
   "metadata": {},
   "outputs": [],
   "source": [
    "# First make a class for the Heat Equation\n",
    "\n",
    "class HeatEquationPDE :\n",
    "    \n",
    "    \"\"\"\n",
    "    Represents the Heat Equation equation PDE and its solution\n",
    "    \n",
    "    attributes: alpha (diffusivity), x_0, T_0 (an initial condition),\n",
    "                N_grid (the size of the grid)\n",
    "    \n",
    "    \"\"\"\n",
    "    \n",
    "    # constructor function\n",
    "    def __init__(self, a_x, a_T0, a_max_time, a_alpha=0.5):\n",
    "        self.alpha = a_alpha\n",
    "        self.max_time = a_max_time\n",
    "        self.x = a_x\n",
    "        self.T0 = a_T0\n",
    "        self.N_grid = np.size(a_x)            \n",
    "        self._solution_t = []\n",
    "        self._solution_y = []\n",
    "        \n",
    "        self.initial_value = self.T0\n",
    "        \n",
    "        # You need to write this function above for this to work!\n",
    "        self.D2_matrix = get_FD_second_derivative_matrix(self.N_grid-1)\n",
    "            \n",
    "        # Rescale for the derivative matrix for the interval we are looking at\n",
    "        b_minus_a = self.x[self.N_grid-1] - self.x[0]\n",
    "        self.D2_matrix *= 4.0 / b_minus_a / b_minus_a\n",
    "\n",
    "    def calculate_dydt(self, t, current_state) :\n",
    "        \n",
    "        # Just for readability\n",
    "        dTdt = np.zeros_like(current_state)\n",
    "        \n",
    "        # Now actually work out the time derivatives\n",
    "        dTdt[:] =  self.alpha * np.dot(self.D2_matrix, current_state)\n",
    "           \n",
    "        # Zero the derivatives at the end for stability \n",
    "        # (especially important in the pseudospectral method)\n",
    "        dTdt[0] = 0.0\n",
    "        dTdt[1] = 0.0\n",
    "        dTdt[self.N_grid-1] = 0.0\n",
    "        dTdt[self.N_grid-2] = 0.0\n",
    "        \n",
    "        return dTdt       \n",
    " \n",
    "    def integrate_using_solve_ivp(self) :\n",
    "        \n",
    "        t_solution = np.linspace(0.0, self.max_time, 100)\n",
    "        solution = solve_ivp(self.calculate_dydt, [0, self.max_time],\n",
    "                        self.initial_value, t_eval=t_solution)\n",
    "        \n",
    "        self._solution_t = solution.t\n",
    "        self._solution_y = solution.y\n",
    "        \n",
    "        self._solution_solved = True\n",
    "        \n",
    "        return solution.t, solution.y"
   ]
  },
  {
   "cell_type": "code",
   "execution_count": null,
   "id": "3ec36d78",
   "metadata": {},
   "outputs": [],
   "source": [
    "# Test the solution\n",
    "num_points = 80\n",
    "a=-10\n",
    "b=10\n",
    "x_values = np.linspace(a , b,  num_points)\n",
    "T0 = get_y_test_function(x_values)\n",
    "max_time = 10.0\n",
    "\n",
    "my_heat_equation = HeatEquationPDE(x_values, T0, max_time)\n",
    "t_solution, y_solution = my_heat_equation.integrate_using_solve_ivp()\n",
    "\n",
    "for i, t_i in enumerate(t_solution) :\n",
    "    if (i > 0) and (i % 5 == 0) and (t_i > 0.0):\n",
    "        labelt = \"t=\"+str(round(t_i,2))\n",
    "        f_t = y_solution[:,i]\n",
    "        plt.plot(x_values, f_t, label=labelt, alpha=(1-t_i/max_time))\n",
    "\n",
    "plt.xlabel('x')\n",
    "plt.ylabel('value over time of T')\n",
    "plt.grid()"
   ]
  },
  {
   "cell_type": "markdown",
   "id": "5931d7e7",
   "metadata": {},
   "source": [
    "### Q2.2 Using pseudospectral methods\n",
    "\n",
    "Update the above code to use the pseudospectral derivative matrix as an alternative. Construct the grid of Gauus Lobato nodes and check you get similar results. Which method is more efficient? Which one is more stable?\n",
    "\n",
    "Comment out the part of the code that zeros the time derivatives at either end of the grid. Does this still work? Does the FD one work too? What happens as you make the number of points large in each case?"
   ]
  },
  {
   "cell_type": "code",
   "execution_count": null,
   "id": "d9cbe9ea",
   "metadata": {},
   "outputs": [],
   "source": [
    "# Your code here...\n"
   ]
  },
  {
   "cell_type": "markdown",
   "id": "53ee4a8d",
   "metadata": {},
   "source": [
    "### Q2.3 Optional extension\n",
    "\n",
    "Optionally, extend the above class to allow integration using another method such as the midpoint or RK4 method."
   ]
  }
 ],
 "metadata": {
  "kernelspec": {
   "display_name": "Python 3 (ipykernel)",
   "language": "python",
   "name": "python3"
  },
  "language_info": {
   "codemirror_mode": {
    "name": "ipython",
    "version": 3
   },
   "file_extension": ".py",
   "mimetype": "text/x-python",
   "name": "python",
   "nbconvert_exporter": "python",
   "pygments_lexer": "ipython3",
   "version": "3.9.18"
  }
 },
 "nbformat": 4,
 "nbformat_minor": 5
}
