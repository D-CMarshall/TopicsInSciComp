{
 "cells": [
  {
   "cell_type": "markdown",
   "id": "4b2c3121",
   "metadata": {},
   "source": [
    "# Week 1 : Welcome to the course!\n",
    "\n",
    "## SageMath example notebook\n",
    "\n",
    "This notebook is just to demonstrate some basic functionality of SageMath notebooks. Try executing the code segments below and changing some of the values or functions to test that you understand what is going on in each one.\n",
    "\n",
    "See the docs for Sage [here](https://doc.sagemath.org), and in particular [this](https://doc.sagemath.org/html/en/prep/Intro-Tutorial.html) is an nice and more complete example.\n",
    "\n",
    "_Note that to execute a cell you press shift-enter_"
   ]
  },
  {
   "cell_type": "markdown",
   "id": "493471e3",
   "metadata": {},
   "source": [
    "Sage does symbolic algebra (and many other things) - so for mathematics where you don't want to actually use numbers, but abstract functions.\n",
    "For example, it can solve equations exactly:"
   ]
  },
  {
   "cell_type": "code",
   "execution_count": 6,
   "id": "1e053fcb",
   "metadata": {},
   "outputs": [
    {
     "ename": "NameError",
     "evalue": "name 'var' is not defined",
     "output_type": "error",
     "traceback": [
      "\u001b[1;31m---------------------------------------------------------------------------\u001b[0m",
      "\u001b[1;31mNameError\u001b[0m                                 Traceback (most recent call last)",
      "Cell \u001b[1;32mIn[6], line 1\u001b[0m\n\u001b[1;32m----> 1\u001b[0m x \u001b[38;5;241m=\u001b[39m \u001b[43mvar\u001b[49m(\u001b[38;5;124m'\u001b[39m\u001b[38;5;124mx\u001b[39m\u001b[38;5;124m'\u001b[39m)\n\u001b[0;32m      2\u001b[0m solve(x\u001b[38;5;241m^\u001b[39m\u001b[38;5;241m2\u001b[39m \u001b[38;5;241m+\u001b[39m \u001b[38;5;241m3\u001b[39m\u001b[38;5;241m*\u001b[39mx \u001b[38;5;241m+\u001b[39m \u001b[38;5;241m2\u001b[39m, x)\n",
      "\u001b[1;31mNameError\u001b[0m: name 'var' is not defined"
     ]
    }
   ],
   "source": [
    "x = var('x')\n",
    "solve(x^2 + 3*x + 2, x)"
   ]
  },
  {
   "cell_type": "code",
   "execution_count": 4,
   "id": "48ce08b7",
   "metadata": {},
   "outputs": [
    {
     "ename": "NameError",
     "evalue": "name 'var' is not defined",
     "output_type": "error",
     "traceback": [
      "\u001b[1;31m---------------------------------------------------------------------------\u001b[0m",
      "\u001b[1;31mNameError\u001b[0m                                 Traceback (most recent call last)",
      "Cell \u001b[1;32mIn[4], line 1\u001b[0m\n\u001b[1;32m----> 1\u001b[0m x, y \u001b[38;5;241m=\u001b[39m \u001b[43mvar\u001b[49m(\u001b[38;5;124m'\u001b[39m\u001b[38;5;124mx, y\u001b[39m\u001b[38;5;124m'\u001b[39m)\n\u001b[0;32m      2\u001b[0m solve([x\u001b[38;5;241m+\u001b[39my\u001b[38;5;241m==\u001b[39m\u001b[38;5;241m6\u001b[39m, x\u001b[38;5;241m-\u001b[39my\u001b[38;5;241m==\u001b[39m\u001b[38;5;241m4\u001b[39m], x, y)\n",
      "\u001b[1;31mNameError\u001b[0m: name 'var' is not defined"
     ]
    }
   ],
   "source": [
    "x, y = var('x, y')\n",
    "solve([x+y==6, x-y==4], x, y)"
   ]
  },
  {
   "cell_type": "markdown",
   "id": "025bc680",
   "metadata": {},
   "source": [
    "It can do differentiation and integration:"
   ]
  },
  {
   "cell_type": "code",
   "execution_count": 3,
   "id": "7c543830",
   "metadata": {},
   "outputs": [
    {
     "name": "stdout",
     "output_type": "stream",
     "text": [
      "the derivative of u is  cos(u)\n",
      "the partial derivative of f with respect to x is  2*x\n",
      "the integral of f with respect to x is  -x*cos(x) + sin(x)\n",
      "the integral of f between pi and 2pi is  -3*pi\n"
     ]
    }
   ],
   "source": [
    "# Derivatives\n",
    "u = var('u')\n",
    "print(\"the derivative of u is \", diff(sin(u), u))\n",
    "\n",
    "# Partial derivatives\n",
    "x, y = var('x,y')\n",
    "f = x^2 + 17*y^2\n",
    "print(\"the partial derivative of f with respect to x is \", f.diff(x))\n",
    "\n",
    "# indefinite and definite integrals\n",
    "f = x*sin(x)\n",
    "print(\"the integral of f with respect to x is \", integral(f, x))\n",
    "print(\"the integral of f between pi and 2pi is \",integral(f, x, pi, 2*pi))"
   ]
  },
  {
   "cell_type": "markdown",
   "id": "0c2231af",
   "metadata": {},
   "source": [
    "Whatever your mathematical interests are, SageMath has a function for it! See [these tutorials](https://doc.sagemath.org/html/en/thematic_tutorials/index.html) for more in depth examples. Note that you can see the full source code for the functions by doing two question marks:"
   ]
  },
  {
   "cell_type": "code",
   "execution_count": 4,
   "id": "e827363d",
   "metadata": {},
   "outputs": [],
   "source": [
    "binomial??"
   ]
  }
 ],
 "metadata": {
  "kernelspec": {
   "display_name": "Python 3 (ipykernel)",
   "language": "python",
   "name": "python3"
  },
  "language_info": {
   "codemirror_mode": {
    "name": "ipython",
    "version": 3
   },
   "file_extension": ".py",
   "mimetype": "text/x-python",
   "name": "python",
   "nbconvert_exporter": "python",
   "pygments_lexer": "ipython3",
   "version": "3.9.18"
  }
 },
 "nbformat": 4,
 "nbformat_minor": 5
}
