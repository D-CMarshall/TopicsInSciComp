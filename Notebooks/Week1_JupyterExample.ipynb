{
 "cells": [
  {
   "cell_type": "markdown",
   "id": "b564c7dd",
   "metadata": {},
   "source": [
    "# Week1 : Welcome to the course!\n",
    "\n",
    "## Jupyter example notebook\n",
    "\n",
    "This notebook is just to demonstrate some basic functionality of python and Jupyter notebooks. Try executing the code segments below and changing some of the values or functions to test that you understand what is going on in each one.\n",
    "\n",
    "_Note that to execute a cell you press shift-enter_"
   ]
  },
  {
   "cell_type": "markdown",
   "id": "275d256d",
   "metadata": {},
   "source": [
    "## The very basics\n",
    "Let's do some very basic maths! Here we will add two numbers $c =a+b$"
   ]
  },
  {
   "cell_type": "code",
   "execution_count": 1,
   "id": "6e4b6a07",
   "metadata": {},
   "outputs": [
    {
     "name": "stdout",
     "output_type": "stream",
     "text": [
      "421\n"
     ]
    }
   ],
   "source": [
    "a = 1\n",
    "b = 420\n",
    "c = a+b\n",
    "print(c)"
   ]
  },
  {
   "cell_type": "markdown",
   "id": "2564c155-7aa8-4b5e-9b42-3d05f2b139d5",
   "metadata": {},
   "source": [
    "## Numpy\n",
    "Now we load the package numpy, which is useful for doing maths and arrays. We give it an alias `np` to make it easier to call member its member functions and attributes."
   ]
  },
  {
   "cell_type": "code",
   "execution_count": 2,
   "id": "9561be5d-ef9a-4a55-b0e3-27dce7c5c1da",
   "metadata": {},
   "outputs": [],
   "source": [
    "import numpy as np"
   ]
  },
  {
   "cell_type": "markdown",
   "id": "a760978b-b9be-41c2-951b-fae2e4dabe18",
   "metadata": {},
   "source": [
    "Now let's use it to create an array."
   ]
  },
  {
   "cell_type": "code",
   "execution_count": 3,
   "id": "6e873602-f33f-4831-90a6-f50854cfa7b0",
   "metadata": {},
   "outputs": [
    {
     "name": "stdout",
     "output_type": "stream",
     "text": [
      "[[1 2 3 4]\n",
      " [5 6 7 8]]\n",
      "The element in the first row, second column is 2 - note the zero base!!\n"
     ]
    }
   ],
   "source": [
    "a = np.array([[1,2,3,4], [5,6,7,8]])\n",
    "print(a)\n",
    "print(\"The element in the first row, second column is\", a[0][1], \"- note the zero base!!\")"
   ]
  },
  {
   "cell_type": "markdown",
   "id": "684ffd6e-5fb2-4036-a2e4-e8497aac6274",
   "metadata": {},
   "source": [
    "There is something to note about the way python labels variables that differs from many other coding paradigms - I will discuss this in the lecture next week but note this unexpected behaviour:"
   ]
  },
  {
   "cell_type": "code",
   "execution_count": 4,
   "id": "de11643e-dfe7-47e6-95e3-c6047e7053fe",
   "metadata": {},
   "outputs": [
    {
     "name": "stdout",
     "output_type": "stream",
     "text": [
      "a was [[1 2 3 4]\n",
      " [5 6 7 8]]\n",
      "I set b to a and amend one element of b\n",
      "a is now [[  1 100   3   4]\n",
      " [  5   6   7   8]]\n"
     ]
    }
   ],
   "source": [
    "print(\"a was\", a)\n",
    "b = a\n",
    "print(\"I set b to a and amend one element of b\")\n",
    "b[0][1]=100\n",
    "print(\"a is now\", a)"
   ]
  },
  {
   "cell_type": "markdown",
   "id": "8a6a203c",
   "metadata": {},
   "source": [
    "We can ask about attributes of the array a as follows:"
   ]
  },
  {
   "cell_type": "code",
   "execution_count": 5,
   "id": "3203994d-2e32-41f8-a811-c6eaac560ceb",
   "metadata": {},
   "outputs": [
    {
     "name": "stdout",
     "output_type": "stream",
     "text": [
      "The shape of a is  (2, 4)\n",
      "The size of a is  8\n",
      "The elements of a are of type  int32\n"
     ]
    }
   ],
   "source": [
    "print(\"The shape of a is \", a.shape)\n",
    "print(\"The size of a is \", a.size)\n",
    "print(\"The elements of a are of type \", a.dtype.name)"
   ]
  },
  {
   "cell_type": "markdown",
   "id": "91ec4cc3",
   "metadata": {},
   "source": [
    "Python automatically recognises the type of elements in the array:"
   ]
  },
  {
   "cell_type": "code",
   "execution_count": 6,
   "id": "43fe26e1",
   "metadata": {},
   "outputs": [
    {
     "name": "stdout",
     "output_type": "stream",
     "text": [
      "The elements of b are of type  float64\n"
     ]
    }
   ],
   "source": [
    "b = np.array([1.2, 3.5, 5.1])\n",
    "print(\"The elements of b are of type \", b.dtype.name)"
   ]
  },
  {
   "cell_type": "markdown",
   "id": "f28ac1ea",
   "metadata": {},
   "source": [
    "Functions apply to arrays element wise, so for example"
   ]
  },
  {
   "cell_type": "code",
   "execution_count": 7,
   "id": "01068c65",
   "metadata": {},
   "outputs": [
    {
     "data": {
      "text/plain": [
       "array([  3.32011692,  33.11545196, 164.0219073 ])"
      ]
     },
     "execution_count": 7,
     "metadata": {},
     "output_type": "execute_result"
    }
   ],
   "source": [
    "# The exponential of each of the elements of b\n",
    "np.exp(b)"
   ]
  },
  {
   "cell_type": "code",
   "execution_count": 8,
   "id": "aa51c176",
   "metadata": {},
   "outputs": [
    {
     "data": {
      "text/plain": [
       "array([1.09544512, 1.87082869, 2.25831796])"
      ]
     },
     "execution_count": 8,
     "metadata": {},
     "output_type": "execute_result"
    }
   ],
   "source": [
    "# The square root of each of the elements of b\n",
    "np.sqrt(b)"
   ]
  },
  {
   "cell_type": "markdown",
   "id": "7e2106d2",
   "metadata": {},
   "source": [
    "To get more information on a function just type a ? after the name"
   ]
  },
  {
   "cell_type": "code",
   "execution_count": 9,
   "id": "ef2a6306",
   "metadata": {},
   "outputs": [
    {
     "data": {
      "text/plain": [
       "\u001b[1;31mCall signature:\u001b[0m  \u001b[0mnp\u001b[0m\u001b[1;33m.\u001b[0m\u001b[0msqrt\u001b[0m\u001b[1;33m(\u001b[0m\u001b[1;33m*\u001b[0m\u001b[0margs\u001b[0m\u001b[1;33m,\u001b[0m \u001b[1;33m**\u001b[0m\u001b[0mkwargs\u001b[0m\u001b[1;33m)\u001b[0m\u001b[1;33m\u001b[0m\u001b[1;33m\u001b[0m\u001b[0m\n",
       "\u001b[1;31mType:\u001b[0m            ufunc\n",
       "\u001b[1;31mString form:\u001b[0m     <ufunc 'sqrt'>\n",
       "\u001b[1;31mFile:\u001b[0m            c:\\users\\ah23008\\.conda\\envs\\myenv\\lib\\site-packages\\numpy\\__init__.py\n",
       "\u001b[1;31mDocstring:\u001b[0m      \n",
       "sqrt(x, /, out=None, *, where=True, casting='same_kind', order='K', dtype=None, subok=True[, signature, extobj])\n",
       "\n",
       "Return the non-negative square-root of an array, element-wise.\n",
       "\n",
       "Parameters\n",
       "----------\n",
       "x : array_like\n",
       "    The values whose square-roots are required.\n",
       "out : ndarray, None, or tuple of ndarray and None, optional\n",
       "    A location into which the result is stored. If provided, it must have\n",
       "    a shape that the inputs broadcast to. If not provided or None,\n",
       "    a freshly-allocated array is returned. A tuple (possible only as a\n",
       "    keyword argument) must have length equal to the number of outputs.\n",
       "where : array_like, optional\n",
       "    This condition is broadcast over the input. At locations where the\n",
       "    condition is True, the `out` array will be set to the ufunc result.\n",
       "    Elsewhere, the `out` array will retain its original value.\n",
       "    Note that if an uninitialized `out` array is created via the default\n",
       "    ``out=None``, locations within it where the condition is False will\n",
       "    remain uninitialized.\n",
       "**kwargs\n",
       "    For other keyword-only arguments, see the\n",
       "    :ref:`ufunc docs <ufuncs.kwargs>`.\n",
       "\n",
       "Returns\n",
       "-------\n",
       "y : ndarray\n",
       "    An array of the same shape as `x`, containing the positive\n",
       "    square-root of each element in `x`.  If any element in `x` is\n",
       "    complex, a complex array is returned (and the square-roots of\n",
       "    negative reals are calculated).  If all of the elements in `x`\n",
       "    are real, so is `y`, with negative elements returning ``nan``.\n",
       "    If `out` was provided, `y` is a reference to it.\n",
       "    This is a scalar if `x` is a scalar.\n",
       "\n",
       "See Also\n",
       "--------\n",
       "emath.sqrt\n",
       "    A version which returns complex numbers when given negative reals.\n",
       "    Note that 0.0 and -0.0 are handled differently for complex inputs.\n",
       "\n",
       "Notes\n",
       "-----\n",
       "*sqrt* has--consistent with common convention--as its branch cut the\n",
       "real \"interval\" [`-inf`, 0), and is continuous from above on it.\n",
       "A branch cut is a curve in the complex plane across which a given\n",
       "complex function fails to be continuous.\n",
       "\n",
       "Examples\n",
       "--------\n",
       ">>> np.sqrt([1,4,9])\n",
       "array([ 1.,  2.,  3.])\n",
       "\n",
       ">>> np.sqrt([4, -1, -3+4J])\n",
       "array([ 2.+0.j,  0.+1.j,  1.+2.j])\n",
       "\n",
       ">>> np.sqrt([4, -1, np.inf])\n",
       "array([ 2., nan, inf])\n",
       "\u001b[1;31mClass docstring:\u001b[0m\n",
       "Functions that operate element by element on whole arrays.\n",
       "\n",
       "To see the documentation for a specific ufunc, use `info`.  For\n",
       "example, ``np.info(np.sin)``.  Because ufuncs are written in C\n",
       "(for speed) and linked into Python with NumPy's ufunc facility,\n",
       "Python's help() function finds this page whenever help() is called\n",
       "on a ufunc.\n",
       "\n",
       "A detailed explanation of ufuncs can be found in the docs for :ref:`ufuncs`.\n",
       "\n",
       "**Calling ufuncs:** ``op(*x[, out], where=True, **kwargs)``\n",
       "\n",
       "Apply `op` to the arguments `*x` elementwise, broadcasting the arguments.\n",
       "\n",
       "The broadcasting rules are:\n",
       "\n",
       "* Dimensions of length 1 may be prepended to either array.\n",
       "* Arrays may be repeated along dimensions of length 1.\n",
       "\n",
       "Parameters\n",
       "----------\n",
       "*x : array_like\n",
       "    Input arrays.\n",
       "out : ndarray, None, or tuple of ndarray and None, optional\n",
       "    Alternate array object(s) in which to put the result; if provided, it\n",
       "    must have a shape that the inputs broadcast to. A tuple of arrays\n",
       "    (possible only as a keyword argument) must have length equal to the\n",
       "    number of outputs; use None for uninitialized outputs to be\n",
       "    allocated by the ufunc.\n",
       "where : array_like, optional\n",
       "    This condition is broadcast over the input. At locations where the\n",
       "    condition is True, the `out` array will be set to the ufunc result.\n",
       "    Elsewhere, the `out` array will retain its original value.\n",
       "    Note that if an uninitialized `out` array is created via the default\n",
       "    ``out=None``, locations within it where the condition is False will\n",
       "    remain uninitialized.\n",
       "**kwargs\n",
       "    For other keyword-only arguments, see the :ref:`ufunc docs <ufuncs.kwargs>`.\n",
       "\n",
       "Returns\n",
       "-------\n",
       "r : ndarray or tuple of ndarray\n",
       "    `r` will have the shape that the arrays in `x` broadcast to; if `out` is\n",
       "    provided, it will be returned. If not, `r` will be allocated and\n",
       "    may contain uninitialized values. If the function has more than one\n",
       "    output, then the result will be a tuple of arrays."
      ]
     },
     "metadata": {},
     "output_type": "display_data"
    }
   ],
   "source": [
    "np.sqrt?"
   ]
  },
  {
   "cell_type": "code",
   "execution_count": 10,
   "id": "c474ae86",
   "metadata": {},
   "outputs": [
    {
     "data": {
      "text/plain": [
       "3.141592653589793"
      ]
     },
     "execution_count": 10,
     "metadata": {},
     "output_type": "execute_result"
    }
   ],
   "source": [
    "#Often useful!\n",
    "np.pi"
   ]
  },
  {
   "cell_type": "markdown",
   "id": "93aeb58c",
   "metadata": {},
   "source": [
    "Numpy can do pretty much anything you can imagine with arrays. [This](https://numpy.org/doc/stable/user/quickstart.html#functions-and-methods-overview) is a useful list of the main functions that you might need."
   ]
  },
  {
   "cell_type": "markdown",
   "id": "4d8c92c2",
   "metadata": {},
   "source": [
    "## Functions"
   ]
  },
  {
   "cell_type": "markdown",
   "id": "52dc49e6",
   "metadata": {},
   "source": [
    "To define a function the syntax is (note the indenting in the second and third lines - this is mandatory and help you to see what is in and out of the function)"
   ]
  },
  {
   "cell_type": "code",
   "execution_count": 11,
   "id": "45165b40",
   "metadata": {},
   "outputs": [],
   "source": [
    "def add_two_numbers(first_number,second_number) :\n",
    "    sum = first_number + second_number\n",
    "    return sum"
   ]
  },
  {
   "cell_type": "markdown",
   "id": "61be8571",
   "metadata": {},
   "source": [
    "Now you can apply it to some numbers:"
   ]
  },
  {
   "cell_type": "code",
   "execution_count": 12,
   "id": "0049f565",
   "metadata": {},
   "outputs": [
    {
     "name": "stdout",
     "output_type": "stream",
     "text": [
      "c is  3\n",
      "d is  [0 0 0 0]\n"
     ]
    }
   ],
   "source": [
    "# just to numbers\n",
    "c = add_two_numbers(1,2)\n",
    "print(\"c is \", c)\n",
    "\n",
    "# to an array - note that this also works element wise\n",
    "array1 = np.array([1,2,3,4])\n",
    "array2 = np.array([-1,-2,-3,-4])\n",
    "d = add_two_numbers(array1, array2)\n",
    "print(\"d is \", d)"
   ]
  },
  {
   "cell_type": "markdown",
   "id": "08c86521",
   "metadata": {},
   "source": [
    "## Plotting\n",
    "\n",
    "Plotting is handled by matplotlib."
   ]
  },
  {
   "cell_type": "code",
   "execution_count": 13,
   "id": "e1415fe4",
   "metadata": {},
   "outputs": [],
   "source": [
    "import matplotlib.pyplot as plt\n",
    "# This displays the plots in the notebook\n",
    "%matplotlib inline "
   ]
  },
  {
   "cell_type": "code",
   "execution_count": 24,
   "id": "54537730",
   "metadata": {},
   "outputs": [
    {
     "name": "stderr",
     "output_type": "stream",
     "text": [
      "C:\\Users\\ah23008\\AppData\\Local\\Temp\\ipykernel_183688\\734623480.py:2: RuntimeWarning: divide by zero encountered in log\n",
      "  y = np.log(x)\n"
     ]
    },
    {
     "data": {
      "text/plain": [
       "[<matplotlib.lines.Line2D at 0x237cb430b50>]"
      ]
     },
     "execution_count": 24,
     "metadata": {},
     "output_type": "execute_result"
    },
    {
     "data": {
      "image/png": "[encoded data removed]",
      "text/plain": [
       "<Figure size 640x480 with 1 Axes>"
      ]
     },
     "metadata": {},
     "output_type": "display_data"
    }
   ],
   "source": [
    "x = np.arange(0,10,0.1) # Values between 0 and 10 in intervals of 0.1 - note that last entry is 9.9\n",
    "y = np.log(x)\n",
    "plt.plot(x,y)"
   ]
  },
  {
   "cell_type": "markdown",
   "id": "c5183bf0",
   "metadata": {},
   "source": [
    "Can make this more fancy:"
   ]
  },
  {
   "cell_type": "code",
   "execution_count": 15,
   "id": "5fe9155d",
   "metadata": {},
   "outputs": [
    {
     "data": {
      "text/plain": [
       "Text(0, 0.5, 'y=cos(x)')"
      ]
     },
     "execution_count": 15,
     "metadata": {},
     "output_type": "execute_result"
    },
    {
     "data": {
      "image/png": "[encoded data removed]",
      "text/plain": [
       "<Figure size 640x480 with 1 Axes>"
      ]
     },
     "metadata": {},
     "output_type": "display_data"
    }
   ],
   "source": [
    "x = np.arange(0,10,0.1) # Values between 0 and 10 in intervals of 0.1 - note that last entry is 9.9\n",
    "y = np.cos(x)\n",
    "plt.plot(x,y)\n",
    "plt.grid()\n",
    "plt.xlim(0,8)\n",
    "plt.ylim(-1.5,1.5)\n",
    "plt.xlabel(\"x\")\n",
    "plt.ylabel(\"y=cos(x)\")"
   ]
  },
  {
   "cell_type": "markdown",
   "id": "dd1dc9cf",
   "metadata": {},
   "source": [
    "Many options for plotting! See [docs here](https://matplotlib.org/stable/users/getting_started/)."
   ]
  },
  {
   "cell_type": "markdown",
   "id": "cb6ee4f9",
   "metadata": {},
   "source": [
    "# Scipy\n",
    "This package gives us access to many fundamental algorithms for scientific computing in Python. Usually we import specific sub packages from within scipy so we can directly use the functions in them, but don't give them an alias. For example:"
   ]
  },
  {
   "cell_type": "code",
   "execution_count": 16,
   "id": "dc99a863",
   "metadata": {},
   "outputs": [],
   "source": [
    "from scipy import linalg"
   ]
  },
  {
   "cell_type": "markdown",
   "id": "be1924ea",
   "metadata": {},
   "source": [
    "Let's invert a matrix - note the problem with finite computational values!"
   ]
  },
  {
   "cell_type": "code",
   "execution_count": 17,
   "id": "9f6b27c4",
   "metadata": {},
   "outputs": [
    {
     "name": "stdout",
     "output_type": "stream",
     "text": [
      "A is \n",
      " [[1 3 5]\n",
      " [2 5 1]\n",
      " [2 3 8]]\n",
      "The inverse of A is \n",
      " [[-1.48  0.36  0.88]\n",
      " [ 0.56  0.08 -0.36]\n",
      " [ 0.16 -0.12  0.04]]\n",
      "The product of A and B its inverse is \n",
      " [[ 1.00000000e+00 -1.11022302e-16 -6.24500451e-17]\n",
      " [ 3.05311332e-16  1.00000000e+00  1.87350135e-16]\n",
      " [ 2.22044605e-16 -1.11022302e-16  1.00000000e+00]]\n"
     ]
    }
   ],
   "source": [
    "A = np.array([[1,3,5],[2,5,1],[2,3,8]])\n",
    "print(\"A is \\n\", A)\n",
    "B = linalg.inv(A)\n",
    "print(\"The inverse of A is \\n\", B)\n",
    "print(\"The product of A and B its inverse is \\n\", A.dot(B))"
   ]
  },
  {
   "cell_type": "markdown",
   "id": "86b1a2cb",
   "metadata": {},
   "source": [
    "Remember the question mark for more information on functions:"
   ]
  },
  {
   "cell_type": "code",
   "execution_count": 18,
   "id": "0a673f7d",
   "metadata": {},
   "outputs": [
    {
     "data": {
      "text/plain": [
       "\u001b[1;31mSignature:\u001b[0m \u001b[0mlinalg\u001b[0m\u001b[1;33m.\u001b[0m\u001b[0mdet\u001b[0m\u001b[1;33m(\u001b[0m\u001b[0ma\u001b[0m\u001b[1;33m,\u001b[0m \u001b[0moverwrite_a\u001b[0m\u001b[1;33m=\u001b[0m\u001b[1;32mFalse\u001b[0m\u001b[1;33m,\u001b[0m \u001b[0mcheck_finite\u001b[0m\u001b[1;33m=\u001b[0m\u001b[1;32mTrue\u001b[0m\u001b[1;33m)\u001b[0m\u001b[1;33m\u001b[0m\u001b[1;33m\u001b[0m\u001b[0m\n",
       "\u001b[1;31mDocstring:\u001b[0m\n",
       "Compute the determinant of a matrix\n",
       "\n",
       "The determinant is a scalar that is a function of the associated square\n",
       "matrix coefficients. The determinant value is zero for singular matrices.\n",
       "\n",
       "Parameters\n",
       "----------\n",
       "a : (..., M, M) array_like\n",
       "    Input array to compute determinants for.\n",
       "overwrite_a : bool, optional\n",
       "    Allow overwriting data in a (may enhance performance).\n",
       "check_finite : bool, optional\n",
       "    Whether to check that the input matrix contains only finite numbers.\n",
       "    Disabling may give a performance gain, but may result in problems\n",
       "    (crashes, non-termination) if the inputs do contain infinities or NaNs.\n",
       "\n",
       "Returns\n",
       "-------\n",
       "det : (...) float or complex\n",
       "    Determinant of `a`. For stacked arrays, a scalar is returned for each\n",
       "    (m, m) slice in the last two dimensions of the input. For example, an\n",
       "    input of shape (p, q, m, m) will produce a result of shape (p, q). If\n",
       "    all dimensions are 1 a scalar is returned regardless of ndim.\n",
       "\n",
       "Notes\n",
       "-----\n",
       "The determinant is computed by performing an LU factorization of the\n",
       "input with LAPACK routine 'getrf', and then calculating the product of\n",
       "diagonal entries of the U factor.\n",
       "\n",
       "Even the input array is single precision (float32 or complex64), the result\n",
       "will be returned in double precision (float64 or complex128) to prevent\n",
       "overflows.\n",
       "\n",
       "Examples\n",
       "--------\n",
       ">>> import numpy as np\n",
       ">>> from scipy import linalg\n",
       ">>> a = np.array([[1,2,3], [4,5,6], [7,8,9]])  # A singular matrix\n",
       ">>> linalg.det(a)\n",
       "0.0\n",
       ">>> b = np.array([[0,2,3], [4,5,6], [7,8,9]])\n",
       ">>> linalg.det(b)\n",
       "3.0\n",
       ">>> # An array with the shape (3, 2, 2, 2)\n",
       ">>> c = np.array([[[[1., 2.], [3., 4.]],\n",
       "...                [[5., 6.], [7., 8.]]],\n",
       "...               [[[9., 10.], [11., 12.]],\n",
       "...                [[13., 14.], [15., 16.]]],\n",
       "...               [[[17., 18.], [19., 20.]],\n",
       "...                [[21., 22.], [23., 24.]]]])\n",
       ">>> linalg.det(c)  # The resulting shape is (3, 2)\n",
       "array([[-2., -2.],\n",
       "       [-2., -2.],\n",
       "       [-2., -2.]])\n",
       ">>> linalg.det(c[0, 0])  # Confirm the (0, 0) slice, [[1, 2], [3, 4]]\n",
       "-2.0\n",
       "\u001b[1;31mFile:\u001b[0m      c:\\users\\ah23008\\.conda\\envs\\myenv\\lib\\site-packages\\scipy\\linalg\\_basic.py\n",
       "\u001b[1;31mType:\u001b[0m      function"
      ]
     },
     "metadata": {},
     "output_type": "display_data"
    }
   ],
   "source": [
    "linalg.det?"
   ]
  },
  {
   "cell_type": "markdown",
   "id": "c9fd0a85",
   "metadata": {},
   "source": [
    "SciPy provides algorithms for optimization, integration, interpolation, eigenvalue problems, algebraic equations, differential equations, statistics and many other classes of problems. We will discover more in the course, but for more information see the [User Guide](https://docs.scipy.org/doc/scipy/tutorial/index.html#user-guide)."
   ]
  }
 ],
 "metadata": {
  "kernelspec": {
   "display_name": "Python 3 (ipykernel)",
   "language": "python",
   "name": "python3"
  },
  "language_info": {
   "codemirror_mode": {
    "name": "ipython",
    "version": 3
   },
   "file_extension": ".py",
   "mimetype": "text/x-python",
   "name": "python",
   "nbconvert_exporter": "python",
   "pygments_lexer": "ipython3",
   "version": "3.9.18"
  }
 },
 "nbformat": 4,
 "nbformat_minor": 5
}
